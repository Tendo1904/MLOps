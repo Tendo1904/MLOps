{
 "cells": [
  {
   "cell_type": "code",
   "execution_count": null,
   "metadata": {},
   "outputs": [],
   "source": [
    "from data_process import DataProcess as DP\n",
    "import os\n",
    "\n",
    "dp = DP()"
   ]
  },
  {
   "cell_type": "code",
   "execution_count": null,
   "metadata": {},
   "outputs": [],
   "source": [
    "X, y = dp.get_data()"
   ]
  },
  {
   "cell_type": "code",
   "execution_count": null,
   "metadata": {},
   "outputs": [],
   "source": [
    "train_annotations = y[:int(0.8*len(y))]\n",
    "val_annotations = y[int(0.8*len(y)):]\n",
    "\n",
    "train_annotations"
   ]
  },
  {
   "cell_type": "code",
   "execution_count": null,
   "metadata": {},
   "outputs": [],
   "source": [
    "dp.save_yolo_files(train_annotations, os.path.join(dp.output_dir, 'images', 'train'),\n",
    "                   os.path.join(dp.output_dir, 'labels', 'train'))\n",
    "\n",
    "dp.save_yolo_files(val_annotations, os.path.join(dp.output_dir, 'images', 'val'),\n",
    "                   os.path.join(dp.output_dir, 'labels', 'val'))"
   ]
  },
  {
   "cell_type": "code",
   "execution_count": null,
   "metadata": {},
   "outputs": [],
   "source": [
    "from ultralytics import YOLO\n",
    "\n",
    "model = YOLO('yolo11n.pt')"
   ]
  },
  {
   "cell_type": "code",
   "execution_count": null,
   "metadata": {},
   "outputs": [],
   "source": [
    "model.train(data=os.path.join(dp.output_dir,'data.yaml'), epochs=50, imgsz=416, batch=16, cache=False, patience=5)"
   ]
  }
 ],
 "metadata": {
  "kernelspec": {
   "display_name": "env",
   "language": "python",
   "name": "python3"
  },
  "language_info": {
   "codemirror_mode": {
    "name": "ipython",
    "version": 3
   },
   "file_extension": ".py",
   "mimetype": "text/x-python",
   "name": "python",
   "nbconvert_exporter": "python",
   "pygments_lexer": "ipython3",
   "version": "3.12.3"
  }
 },
 "nbformat": 4,
 "nbformat_minor": 2
}
